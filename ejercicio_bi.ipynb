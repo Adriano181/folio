{
  "nbformat": 4,
  "nbformat_minor": 0,
  "metadata": {
    "colab": {
      "provenance": [],
      "authorship_tag": "ABX9TyMHDqU9Dmo6pXxS/HmZVf8R",
      "include_colab_link": true
    },
    "kernelspec": {
      "name": "python3",
      "display_name": "Python 3"
    },
    "language_info": {
      "name": "python"
    }
  },
  "cells": [
    {
      "cell_type": "markdown",
      "metadata": {
        "id": "view-in-github",
        "colab_type": "text"
      },
      "source": [
        "<a href=\"https://colab.research.google.com/github/Adriano181/folio/blob/main/ejercicio_bi.ipynb\" target=\"_parent\"><img src=\"https://colab.research.google.com/assets/colab-badge.svg\" alt=\"Open In Colab\"/></a>"
      ]
    },
    {
      "cell_type": "markdown",
      "source": [
        "Puno 1 limpieza de datos"
      ],
      "metadata": {
        "id": "9NX4ngiFE9Aq"
      }
    },
    {
      "cell_type": "code",
      "execution_count": 2,
      "metadata": {
        "id": "JdGPuqYKEv0u"
      },
      "outputs": [],
      "source": [
        "# codigo python\n",
        "\n",
        "import pandas as pd\n",
        "import numpy as np\n",
        "\n",
        "# 1) Cargar el archivo Excel\n",
        "df_raw = pd.read_excel('assetment-bookmaker.xlsx', sheet_name='in', header=None)\n",
        "\n",
        "# The sheet is in CSV format within a single column, so we separate it by commas\n",
        "header_row = df_raw.iloc[0, 0] # Get the header string from the first row\n",
        "cols = [c.strip() for c in str(header_row).split(',')] # Nombres de columnas\n",
        "s = df_raw.iloc[1:, 0].astype(str) # Convert all data rows to string for manipulation, excluding the header row\n",
        "df = s.str.split(',', expand=True) # Separate by commas\n",
        "df.columns = cols"
      ]
    },
    {
      "cell_type": "code",
      "source": [
        "# 2) Conversión de tipos de datos\n",
        "df['Periodo'] = pd.to_datetime(df['Periodo'], errors='coerce')\n",
        "\n",
        "for c in df.columns:\n",
        "    if c != 'Periodo':\n",
        "        # Elimina caracteres no numéricos (como símbolos o comas)\n",
        "        df[c] = pd.to_numeric(df[c].str.replace('[^0-9eE+.-]', '', regex=True), errors='coerce')"
      ],
      "metadata": {
        "id": "nNaPOTXCFgYt"
      },
      "execution_count": 3,
      "outputs": []
    },
    {
      "cell_type": "code",
      "source": [
        "# 3) Definimos listas de columnas\n",
        "count_cols = ['# Clicks', '# Registros IN', '# Primer depÃ³sito IN', '# Personas que apostaron IN']\n",
        "amount_cols = ['Total depositado IN', 'Total apostado', 'Net revenue IN']\n",
        "\n",
        "# 4) Imputación (relleno) de valores faltantes\n",
        "for c in count_cols:\n",
        "    if c in df.columns:\n",
        "        df[c] = df[c].fillna(0).astype('Int64')\n",
        "\n",
        "for c in amount_cols:\n",
        "    if c in df.columns:\n",
        "        df[c] = df[c].fillna(0.0)"
      ],
      "metadata": {
        "id": "hHyrx-T3GJHm"
      },
      "execution_count": 4,
      "outputs": []
    },
    {
      "cell_type": "code",
      "source": [
        "# 5) Guardar datos limpios para Power BI\n",
        "df.to_csv('bookmaker_clean_daily.csv', index=False)"
      ],
      "metadata": {
        "id": "-3qtQg1sGxoH"
      },
      "execution_count": 5,
      "outputs": []
    },
    {
      "cell_type": "markdown",
      "source": [
        "Importacion de datos limpios  y  presentacion librerias"
      ],
      "metadata": {
        "id": "kmlgD4sVIOw7"
      }
    },
    {
      "cell_type": "code",
      "source": [
        "import pandas as pd\n",
        "import numpy as np\n",
        "from sklearn.linear_model import LinearRegression\n",
        "from sklearn.metrics import mean_absolute_percentage_error\n",
        "\n",
        "# Cargar datos limpios\n",
        "df = pd.read_csv('bookmaker_clean_daily.csv', parse_dates=['Periodo'])\n",
        "\n",
        "# Aseguramos que está ordenado por fecha\n",
        "df = df.sort_values('Periodo')"
      ],
      "metadata": {
        "id": "QGk5Nd8TITIe"
      },
      "execution_count": 6,
      "outputs": []
    },
    {
      "cell_type": "markdown",
      "source": [
        "Agregar datos por mes\n",
        "Para proyecciones financieras, es más estable trabajar con datos mensuales que diarios."
      ],
      "metadata": {
        "id": "FFNsl2P8Ihwn"
      }
    },
    {
      "cell_type": "code",
      "source": [
        "df_month = df.set_index('Periodo').resample('M').agg({\n",
        "    'Net revenue IN': 'sum'\n",
        "}).rename(columns={'Net revenue IN':'net_revenue'}).reset_index()\n",
        "\n",
        "# Creamos índice temporal (meses desde el inicio)\n",
        "df_month['month_index'] = (df_month['Periodo'] - df_month['Periodo'].min()).dt.days // 30"
      ],
      "metadata": {
        "colab": {
          "base_uri": "https://localhost:8080/"
        },
        "id": "SgKHm6ksIlHE",
        "outputId": "4e40e597-8582-45c2-f590-350ca84861cf"
      },
      "execution_count": 7,
      "outputs": [
        {
          "output_type": "stream",
          "name": "stderr",
          "text": [
            "/tmp/ipython-input-4220529799.py:1: FutureWarning: 'M' is deprecated and will be removed in a future version, please use 'ME' instead.\n",
            "  df_month = df.set_index('Periodo').resample('M').agg({\n"
          ]
        }
      ]
    },
    {
      "cell_type": "markdown",
      "source": [
        "Preparar datos para entrenamiento y prueba\n",
        "Vamos a separar los últimos 6 meses como test para validar el modelo.\n",
        "\n",
        "```\n",
        "# This is formatted as code\n",
        "```\n",
        "\n"
      ],
      "metadata": {
        "id": "By0KotG2JhVw"
      }
    },
    {
      "cell_type": "code",
      "source": [
        "X = df_month[['month_index']]\n",
        "y = df_month['net_revenue']\n",
        "\n",
        "test_size = 6\n",
        "X_train, X_test = X[:-test_size], X[-test_size:]\n",
        "y_train, y_test = y[:-test_size], y[-test_size:]\n"
      ],
      "metadata": {
        "id": "sCVJEBUOJiaN"
      },
      "execution_count": 8,
      "outputs": []
    },
    {
      "cell_type": "markdown",
      "source": [
        "Entrenar modelo de regresión lineal\n",
        "Se ajusta una línea recta a la tendencia mensual."
      ],
      "metadata": {
        "id": "vaQE65yRJ8s4"
      }
    },
    {
      "cell_type": "code",
      "source": [
        "model = LinearRegression()\n",
        "model.fit(X_train, y_train)\n",
        "\n",
        "# Predicción sobre datos de test\n",
        "y_pred_test = model.predict(X_test)\n",
        "\n",
        "# Calcular error MAPE\n",
        "mape_test = mean_absolute_percentage_error(y_test.replace(0, np.nan).fillna(1e-8), y_pred_test)\n",
        "print(f\"MAPE en test: {mape_test:.2%}\")"
      ],
      "metadata": {
        "colab": {
          "base_uri": "https://localhost:8080/"
        },
        "id": "-E22WaBzJ-zV",
        "outputId": "67023b84-f477-45c2-a3be-95afe3f27891"
      },
      "execution_count": 9,
      "outputs": [
        {
          "output_type": "stream",
          "name": "stdout",
          "text": [
            "MAPE en test: 33.21%\n"
          ]
        }
      ]
    },
    {
      "cell_type": "markdown",
      "source": [
        " Proyectar 24 meses hacia adelante\n",
        "Creamos nuevos índices de mes y predecimos."
      ],
      "metadata": {
        "id": "HwlAXoGNKqAW"
      }
    },
    {
      "cell_type": "code",
      "source": [
        "  # Último índice de mes en el dataset\n",
        "  last_index = df_month['month_index'].max()\n",
        "\n",
        "  # Generar próximos 24 meses\n",
        "  future_indices = np.arange(last_index+1, last_index+1+24).reshape(-1,1)\n",
        "  future_preds = model.predict(future_indices)\n",
        "\n",
        "  # Crear DataFrame de proyección\n",
        "  future_dates = pd.date_range(start=df_month['Periodo'].max() + pd.offsets.MonthBegin(1), periods=24, freq='M')\n",
        "  proj = pd.DataFrame({\n",
        "      'Periodo': future_dates,\n",
        "      'net_revenue_pred': future_preds\n",
        "  })\n",
        "\n",
        "  print(proj.head())"
      ],
      "metadata": {
        "colab": {
          "base_uri": "https://localhost:8080/"
        },
        "id": "EuW6pgKZLCQr",
        "outputId": "961b5115-1684-4b22-c78f-35f621b0000d"
      },
      "execution_count": 10,
      "outputs": [
        {
          "output_type": "stream",
          "name": "stdout",
          "text": [
            "     Periodo  net_revenue_pred\n",
            "0 2023-10-31      40215.045557\n",
            "1 2023-11-30      43135.457748\n",
            "2 2023-12-31      46055.869939\n",
            "3 2024-01-31      48976.282131\n",
            "4 2024-02-29      51896.694322\n"
          ]
        },
        {
          "output_type": "stream",
          "name": "stderr",
          "text": [
            "/usr/local/lib/python3.11/dist-packages/sklearn/utils/validation.py:2739: UserWarning: X does not have valid feature names, but LinearRegression was fitted with feature names\n",
            "  warnings.warn(\n",
            "/tmp/ipython-input-1414476698.py:9: FutureWarning: 'M' is deprecated and will be removed in a future version, please use 'ME' instead.\n",
            "  future_dates = pd.date_range(start=df_month['Periodo'].max() + pd.offsets.MonthBegin(1), periods=24, freq='M')\n"
          ]
        }
      ]
    },
    {
      "cell_type": "code",
      "source": [
        "proj.to_csv('bookmaker_net_revenue_projection_24m.csv', index=False)"
      ],
      "metadata": {
        "id": "R2aj3zkjLqKc"
      },
      "execution_count": 11,
      "outputs": []
    },
    {
      "cell_type": "code",
      "source": [
        "# alternativa de codigo conjunto\n",
        "import pandas as pd\n",
        "import numpy as np\n",
        "from sklearn.linear_model import LinearRegression\n",
        "from sklearn.metrics import mean_absolute_percentage_error\n",
        "from datetime import timedelta\n",
        "\n",
        "# 1) Cargar\n",
        "df_raw = pd.read_excel('assetment-bookmaker.xlsx', sheet_name='in', header=None)\n",
        "# la hoja tiene una sola columna con valores CSV -> separar por coma\n",
        "header_row = df_raw.iloc[0, 0] # Get the header string from the first row\n",
        "cols = [c.strip() for c in str(header_row).split(',')] # Nombres de columnas\n",
        "s = df_raw.iloc[1:, 0].astype(str) # Convert all data rows to string for manipulation, excluding the header row\n",
        "df = s.str.split(',', expand=True) # Separate by commas\n",
        "df.columns = cols\n",
        "\n",
        "# Fix encoding issue in column names\n",
        "df.columns = df.columns.str.replace('Ã³', 'ó')\n",
        "\n",
        "# 2) Tipos\n",
        "df['Periodo'] = pd.to_datetime(df['Periodo'], errors='coerce')\n",
        "for c in df.columns:\n",
        "    if c != 'Periodo':\n",
        "        df[c] = pd.to_numeric(df[c].str.replace('[^0-9eE+.-]', '', regex=True), errors='coerce')\n",
        "\n",
        "# 3) Estrategia de imputación recomendada (explicada abajo)\n",
        "# - Para contadores (# Clicks, # Registros, # Primer depósito, # Personas...) rellenar con 0 si significan \"no hubo\"\n",
        "# - Para montos (Total depositado, Total apostado, Net revenue) rellenar con 0 si se entiende que no hubo operación,\n",
        "#   o con la mediana mensual si faltan por errores de ETL. Aquí dejamos opción 1: 0 (más conservadora).\n",
        "count_cols = ['# Clicks', '# Registros IN', '# Primer depósito IN', '# Personas que apostaron IN']\n",
        "amount_cols = ['Total depositado IN', 'Total apostado', 'Net revenue IN']\n",
        "\n",
        "for c in count_cols:\n",
        "    if c in df.columns:\n",
        "        df[c] = df[c].fillna(0).astype('Int64')\n",
        "\n",
        "for c in amount_cols:\n",
        "    if c in df.columns:\n",
        "        # alternativa: df[c] = df.groupby(df['Periodo'].dt.to_period('M'))[c].transform(lambda x: x.fillna(x.median()))\n",
        "        df[c] = df[c].fillna(0.0)\n",
        "\n",
        "# 4) Agregación mensual\n",
        "df_month = df.set_index('Periodo').resample('M').agg({\n",
        "    'Net revenue IN': 'sum',\n",
        "    'Total apostado': 'sum',\n",
        "    '# Personas que apostaron IN': 'sum'\n",
        "}).rename(columns={'Net revenue IN':'net_revenue', 'Total apostado':'total_apostado', '# Personas que apostaron IN':'num_players'})\n",
        "\n",
        "df_month = df_month.reset_index()\n",
        "df_month['month_index'] = (df_month['Periodo'] - df_month['Periodo'].min()).dt.days // 30  # índice temporal simple\n",
        "\n",
        "# 5) Modelo de proyección simple: regresión lineal sobre index (explicable y rápido)\n",
        "X = df_month[['month_index']]\n",
        "y = df_month['net_revenue'].fillna(0)\n",
        "\n",
        "# Train/test (últimos 6 meses test)\n",
        "test_size = 6\n",
        "X_train, X_test = X[:-test_size], X[-test_size:]\n",
        "y_train, y_test = y[:-test_size], y[-test_size:]\n",
        "\n",
        "model = LinearRegression()\n",
        "model.fit(X_train, y_train)\n",
        "y_pred_test = model.predict(X_test)\n",
        "\n",
        "mape_test = mean_absolute_percentage_error(y_test.replace(0, np.nan).fillna(1e-8), y_pred_test)\n",
        "print('MAPE test (aprox):', mape_test)\n",
        "\n",
        "# Proyección 24 meses hacia adelante\n",
        "last_index = X['month_index'].max()\n",
        "future_indices = np.arange(last_index+1, last_index+1+24).reshape(-1,1)\n",
        "future_preds = model.predict(future_indices)\n",
        "\n",
        "future_dates = pd.date_range(start=df_month['Periodo'].max() + pd.offsets.MonthBegin(1), periods=24, freq='M')\n",
        "proj = pd.DataFrame({'Periodo': future_dates, 'month_index': future_indices.flatten(), 'net_revenue_pred': future_preds})\n",
        "\n",
        "# 6) Guardar datasets para Power BI\n",
        "df.to_csv('bookmaker_clean_daily.csv', index=False)\n",
        "df_month.to_csv('bookmaker_monthly.csv', index=False)\n",
        "proj.to_csv('bookmaker_net_revenue_projection_24m.csv', index=False)\n",
        "\n",
        "# 7) Resultado: df_month (histórico) y proj (proyección)\n",
        "print(df_month.tail())\n",
        "print(proj.head())"
      ],
      "metadata": {
        "colab": {
          "base_uri": "https://localhost:8080/"
        },
        "id": "OkTubL1NNqtd",
        "outputId": "64a9adb2-7b72-4d5e-e74b-ba4942de365b"
      },
      "execution_count": 14,
      "outputs": [
        {
          "output_type": "stream",
          "name": "stdout",
          "text": [
            "MAPE test (aprox): 0.3320904248964403\n",
            "      Periodo   net_revenue  total_apostado  num_players  month_index\n",
            "9  2023-05-31  44567.714103    1.850204e+06         5572            9\n",
            "10 2023-06-30  26305.867537    6.242841e+05         4907           10\n",
            "11 2023-07-31  47186.412694    1.557901e+06        21644           11\n",
            "12 2023-08-31  98242.521515    2.383450e+06        30080           12\n",
            "13 2023-09-30  52025.806147    1.354040e+06        16955           13\n",
            "     Periodo  month_index  net_revenue_pred\n",
            "0 2023-10-31           14      40215.045557\n",
            "1 2023-11-30           15      43135.457748\n",
            "2 2023-12-31           16      46055.869939\n",
            "3 2024-01-31           17      48976.282131\n",
            "4 2024-02-29           18      51896.694322\n"
          ]
        },
        {
          "output_type": "stream",
          "name": "stderr",
          "text": [
            "/tmp/ipython-input-3477044185.py:40: FutureWarning: 'M' is deprecated and will be removed in a future version, please use 'ME' instead.\n",
            "  df_month = df.set_index('Periodo').resample('M').agg({\n",
            "/usr/local/lib/python3.11/dist-packages/sklearn/utils/validation.py:2739: UserWarning: X does not have valid feature names, but LinearRegression was fitted with feature names\n",
            "  warnings.warn(\n",
            "/tmp/ipython-input-3477044185.py:70: FutureWarning: 'M' is deprecated and will be removed in a future version, please use 'ME' instead.\n",
            "  future_dates = pd.date_range(start=df_month['Periodo'].max() + pd.offsets.MonthBegin(1), periods=24, freq='M')\n"
          ]
        }
      ]
    }
  ]
}