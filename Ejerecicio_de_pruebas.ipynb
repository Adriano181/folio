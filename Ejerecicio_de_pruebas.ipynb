{
  "nbformat": 4,
  "nbformat_minor": 0,
  "metadata": {
    "colab": {
      "provenance": [],
      "authorship_tag": "ABX9TyM3oEJJteXSidFvfaDQ1XkN",
      "include_colab_link": true
    },
    "kernelspec": {
      "name": "python3",
      "display_name": "Python 3"
    },
    "language_info": {
      "name": "python"
    }
  },
  "cells": [
    {
      "cell_type": "markdown",
      "metadata": {
        "id": "view-in-github",
        "colab_type": "text"
      },
      "source": [
        "<a href=\"https://colab.research.google.com/github/Adriano181/folio/blob/main/Ejerecicio_de_pruebas.ipynb\" target=\"_parent\"><img src=\"https://colab.research.google.com/assets/colab-badge.svg\" alt=\"Open In Colab\"/></a>"
      ]
    },
    {
      "cell_type": "code",
      "execution_count": 1,
      "metadata": {
        "colab": {
          "base_uri": "https://localhost:8080/"
        },
        "id": "RHtRZkdm9pQP",
        "outputId": "3a622f8a-c4cd-4328-886b-09243e16ea31"
      },
      "outputs": [
        {
          "output_type": "stream",
          "name": "stdout",
          "text": [
            "Matriz de Confusión:\n",
            "Predicho  Bajo  Medio  Alto\n",
            "Real                       \n",
            "Bajo         0     12     0\n",
            "Medio        0     40     0\n",
            "Alto         0      8     0\n",
            "\n",
            "Reporte de Clasificación:\n",
            " Bajo -> Precisión: 0.00, Recall: 0.00, F1-Score: 0.00\n",
            "Medio -> Precisión: 0.67, Recall: 1.00, F1-Score: 0.80\n",
            " Alto -> Precisión: 0.00, Recall: 0.00, F1-Score: 0.00\n",
            "Total de predicciones: 60\n",
            "Tamaño del dataset: (300, 6)\n",
            "Clases de NivelCliente: ['Bajo' 'Medio' 'Alto']\n"
          ]
        }
      ],
      "source": [
        "import pandas as pd\n",
        "import numpy as np\n",
        "\n",
        "# 1. Simulación de datos\n",
        "np.random.seed(42)\n",
        "n = 300\n",
        "df = pd.DataFrame({\n",
        "    'Edad': np.random.randint(18, 65, size=n),\n",
        "    'FrecuenciaCompra': np.random.randint(1, 10, size=n),\n",
        "    'GastoTotal': np.round(np.random.normal(800000, 200000, size=n), -3),\n",
        "    'Ciudad': np.random.choice(['Bogotá', 'Tunja', 'Soacha', 'Chía'], size=n),\n",
        "    'Servicio': np.random.choice(['Internet', 'Móvil', 'TV'], size=n)\n",
        "})\n",
        "\n",
        "# 2. Clasificación de NivelCliente\n",
        "def clasificar(gasto):\n",
        "    if gasto > 1000000:\n",
        "        return 'Alto'\n",
        "    elif gasto >= 600000:\n",
        "        return 'Medio'\n",
        "    else:\n",
        "        return 'Bajo'\n",
        "\n",
        "df['NivelCliente'] = df['GastoTotal'].apply(clasificar)\n",
        "\n",
        "# 3. División de datos en entrenamiento y prueba (80% - 20%)\n",
        "df = df.sample(frac=1, random_state=42).reset_index(drop=True)\n",
        "train_df = df.iloc[:240]\n",
        "test_df = df.iloc[240:].copy()\n",
        "\n",
        "# 4. Modelo simple basado en promedio de gasto por Ciudad y Servicio\n",
        "promedios = train_df.groupby(['Ciudad', 'Servicio'])['GastoTotal'].mean().reset_index()\n",
        "\n",
        "def predecir_nivel(fila):\n",
        "    ciudad = fila['Ciudad']\n",
        "    servicio = fila['Servicio']\n",
        "    row = promedios[(promedios['Ciudad'] == ciudad) & (promedios['Servicio'] == servicio)]\n",
        "    if not row.empty:\n",
        "        gasto_est = row['GastoTotal'].values[0]\n",
        "        return clasificar(gasto_est)\n",
        "    else:\n",
        "        return 'Medio'\n",
        "\n",
        "# 5. Aplicar predicciones\n",
        "test_df['Prediccion'] = test_df.apply(predecir_nivel, axis=1)\n",
        "\n",
        "# 6. Matriz de confusión\n",
        "etiquetas = ['Bajo', 'Medio', 'Alto']\n",
        "matriz = pd.crosstab(\n",
        "    test_df['NivelCliente'],\n",
        "    test_df['Prediccion'],\n",
        "    rownames=['Real'],\n",
        "    colnames=['Predicho'],\n",
        "    dropna=False\n",
        ").reindex(index=etiquetas, columns=etiquetas, fill_value=0)\n",
        "\n",
        "print(\"Matriz de Confusión:\")\n",
        "print(matriz)\n",
        "\n",
        "# 7. Cálculo manual de métricas\n",
        "print(\"\\nReporte de Clasificación:\")\n",
        "for clase in etiquetas:\n",
        "    TP = matriz.loc[clase, clase]\n",
        "    FP = matriz[clase].sum() - TP\n",
        "    FN = matriz.loc[clase].sum() - TP\n",
        "    precision = TP / (TP + FP) if (TP + FP) > 0 else 0\n",
        "    recall = TP / (TP + FN) if (TP + FN) > 0 else 0\n",
        "    f1 = 2 * (precision * recall) / (precision + recall) if (precision + recall) > 0 else 0\n",
        "    print(f\"{clase:>5} -> Precisión: {precision:.2f}, Recall: {recall:.2f}, F1-Score: {f1:.2f}\")\n",
        "\n",
        "# 8. Otras salidas útiles para pruebas automáticas (opcional)\n",
        "print(\"Total de predicciones:\", test_df['Prediccion'].notna().sum())\n",
        "print(\"Tamaño del dataset:\", df.shape)\n",
        "print(\"Clases de NivelCliente:\", df['NivelCliente'].unique())"
      ]
    },
    {
      "cell_type": "markdown",
      "source": [
        "Actividad: Análisis de Ventas de una Tienda 🛒\n",
        "Una tienda ha registrado las ventas del último mes. Cada registro incluye:\n",
        "\n",
        "👤 El nombre del cliente\n",
        "📦 El producto que compró\n",
        "🔢 La cantidad\n",
        "💲 El precio unitario\n",
        "📅 La fecha del pedido\n",
        "🧠 Tareas del estudiante\n",
        "📋 Crear un DataFrame con los datos proporcionados.\n",
        "➗ Calcular el total por venta utilizando la fórmula: cantidad * precio_unitario.\n",
        "📈 Agrupar los datos por cliente y calcular:\n",
        "💰 El total gastado\n",
        "🧾 El número de pedidos realizados\n",
        "📊 Visualizar con un gráfico de barras el total gastado por cliente.\n",
        "🏷️ Clasificar a los clientes en:\n",
        "🔝 'Alto' si gastaron más de $1000\n",
        "⚖️ 'Medio' si gastaron entre $500 y $1000\n",
        "🔽 'Bajo' si gastaron menos de $500"
      ],
      "metadata": {
        "id": "MU-_Xay6_omp"
      }
    }
  ]
}